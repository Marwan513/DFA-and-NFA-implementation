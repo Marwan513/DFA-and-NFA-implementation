{
 "cells": [
  {
   "attachments": {},
   "cell_type": "markdown",
   "metadata": {},
   "source": [
    "# Task 1"
   ]
  },
  {
   "attachments": {},
   "cell_type": "markdown",
   "metadata": {},
   "source": [
    "### NFA Graph:"
   ]
  },
  {
   "attachments": {},
   "cell_type": "markdown",
   "metadata": {},
   "source": [
    "NFA graph link : [NFA graph](https://drive.google.com/file/d/1thnK_9JXeJFhOafY8cC1canv7GkgQAmi/view?usp=share_link)"
   ]
  },
  {
   "attachments": {},
   "cell_type": "markdown",
   "metadata": {},
   "source": [
    "![NFA_graph](NFA_graph.jpeg)"
   ]
  },
  {
   "attachments": {},
   "cell_type": "markdown",
   "metadata": {},
   "source": [
    "NFA table link : [NFA table](https://drive.google.com/file/d/10jM-Un6UPKDo6K3w938l21Vxx2_3DHmF/view?usp=share_link)"
   ]
  },
  {
   "attachments": {},
   "cell_type": "markdown",
   "metadata": {},
   "source": [
    "![NFA_table](NFA_table.png)"
   ]
  },
  {
   "attachments": {},
   "cell_type": "markdown",
   "metadata": {},
   "source": [
    "We have six states q1 q2 q3 q4 q5 and qf first let us summarize the NFA transition table \n",
    "if we are at the starting state which is q1 and our input was zero we will stay at the same state but if we have one we will advance to q2 then if we are at q2 and got input one we will be at the same state but if we got zero we will advance to q3 then if we got zero we will return back to q1 but if we got one we will diverse to q2 and q4 then if we are at q4 and got one as an input we will be back to q2 and if we got zero will diverse to q3 and q5 and if we are at q5 and got 0 as an input we will return back to q1 but if we got one we will advance to qf our accepting state"
   ]
  },
  {
   "cell_type": "code",
   "execution_count": 1,
   "metadata": {},
   "outputs": [],
   "source": [
    "# implement the graph using nested dictionary\n",
    "nfa_graph = {\n",
    "    \"q1\":{\"0\":[\"q1\"],\"1\":[\"q2\"]},\n",
    "    \"q2\":{\"0\":[\"q3\"],\"1\":[\"q2\"]},\n",
    "    \"q3\":{\"0\":[\"q1\"],\"1\":[\"q2\",\"q4\"]},\n",
    "    \"q4\":{\"0\":[\"q3\",\"q5\"],\"1\":[\"q2\"]},\n",
    "    \"q5\":{\"0\":[\"q1\"],\"1\":[\"q2\",\"q4\",\"qf\"]},\n",
    "    \"qf\":{}\n",
    "}"
   ]
  },
  {
   "attachments": {},
   "cell_type": "markdown",
   "metadata": {},
   "source": [
    "This a graph for the NFA done using nested dictionaries to illustrate it coded for the implementation of NFA_count "
   ]
  },
  {
   "cell_type": "code",
   "execution_count": 2,
   "metadata": {},
   "outputs": [],
   "source": [
    "def remove_items(test_list, item):\n",
    "    \"\"\"\n",
    "    function to remove all instance of \"item\" from the list\n",
    "    \"\"\"\n",
    "    # using list comprehension to perform the task\n",
    "    res = [i for i in test_list if i != item]\n",
    " \n",
    "    return res"
   ]
  },
  {
   "attachments": {},
   "cell_type": "markdown",
   "metadata": {},
   "source": [
    "This functiion is for deleting repeated items in the tree to reduce its complexty ie: q0-q1-q2\n",
    "                                                                                           \\_q1-q2\n",
    "                                                                                               \\_q1"
   ]
  },
  {
   "cell_type": "code",
   "execution_count": 3,
   "metadata": {},
   "outputs": [],
   "source": [
    "def NFA_count(input,nfa_graph):\n",
    "    '''\n",
    "    function that use the graph we implement to return the number of occurrences of \n",
    "    (10101) in the input using the NFA taking into consideration the overlapping.\n",
    "\n",
    "    Parameters:\n",
    "        input (str):The string which the function will apply the NFA graph on it.\n",
    "\n",
    "    Returns:\n",
    "        count (int):the number of occurrences of (10101) in the input.   \n",
    "    '''\n",
    "\n",
    "    count = 0\n",
    "\n",
    "    # access the states of the graph\n",
    "    states = list(nfa_graph.keys())\n",
    "\n",
    "    # define the start state\n",
    "    current_states = [states[0]]\n",
    "\n",
    "    # loop on the characters of the string\n",
    "    for symbol in input:\n",
    "\n",
    "        next_states = []\n",
    "        \n",
    "        # loop on the current states to get it's next states for each of it\n",
    "        for state in current_states:\n",
    "            # check the character if it is 0 or 1 and append the state of this character\n",
    "            # to the next state to access it in the next loop\n",
    "            if symbol == '0':\n",
    "                next_states.append(nfa_graph[state][\"0\"])\n",
    "            elif symbol == '1':\n",
    "                next_states.append(nfa_graph[state][\"1\"])\n",
    "\n",
    "        # flat all the states in the list of the next states\n",
    "        next_states = [item for sublist in next_states for item in sublist]\n",
    "\n",
    "        # copy the next states to make it the current states\n",
    "        current_states = next_states.copy()\n",
    "\n",
    "        # if we reach the final state then we detect squance (10101)\n",
    "        if \"qf\" in current_states:\n",
    "\n",
    "            # add 1 to the counter\n",
    "            count += 1\n",
    "\n",
    "            # remove the final state from the current state\n",
    "            current_states=remove_items(current_states, 'qf')\n",
    "\n",
    "    return count\n"
   ]
  },
  {
   "attachments": {},
   "cell_type": "markdown",
   "metadata": {},
   "source": [
    "this function NFA_count takes input either 0/1 and the nfa graph and traverse the dictionary according the inputs and whenever reaching the accepting state the count parameter increment by 1 to ensure overlapping"
   ]
  },
  {
   "cell_type": "code",
   "execution_count": 4,
   "metadata": {},
   "outputs": [
    {
     "name": "stdout",
     "output_type": "stream",
     "text": [
      "                   TEST CASES                      \n",
      "first test case  101011 ---------------> Count = 1\n",
      "second test case 11111 ----------------> Count = 0\n",
      "third test case  10101010101 ----------> Count = 4\n",
      "fourth test case 110101011 ------------> Count = 2\n",
      "our test case    10101010101101010101 -> Count = 7\n",
      "\n"
     ]
    }
   ],
   "source": [
    "print(\"                   TEST CASES                      \")\n",
    "print(f\"first test case  101011 ---------------> Count = {NFA_count('101011',nfa_graph)}\\n\"\n",
    "      f\"second test case 11111 ----------------> Count = {NFA_count('11111',nfa_graph)}\\n\"\n",
    "      f\"third test case  10101010101 ----------> Count = {NFA_count('10101010101',nfa_graph)}\\n\"\n",
    "      f\"fourth test case 110101011 ------------> Count = {NFA_count('110101011',nfa_graph)}\\n\"\n",
    "      f\"our test case    10101010101101010101 -> Count = {NFA_count('10101010101101010101',nfa_graph)}\\n\"\n",
    ")"
   ]
  },
  {
   "attachments": {},
   "cell_type": "markdown",
   "metadata": {},
   "source": [
    "### DFA Graph:"
   ]
  },
  {
   "attachments": {},
   "cell_type": "markdown",
   "metadata": {},
   "source": [
    "DFA graph link : [DFA graph](https://drive.google.com/file/d/1LmRt7XgMYV_FK2DHA7h4L53PqDOvSmfV/view?usp=share_link)"
   ]
  },
  {
   "attachments": {},
   "cell_type": "markdown",
   "metadata": {},
   "source": [
    "![DFA_graph](DFA_graph.jpeg)"
   ]
  },
  {
   "attachments": {},
   "cell_type": "markdown",
   "metadata": {},
   "source": [
    "DFA table link : [DFA table](https://drive.google.com/file/d/15jAsM2fRz34v5OWGaplYeOADZzycDp2Z/view?usp=share_link)"
   ]
  },
  {
   "attachments": {},
   "cell_type": "markdown",
   "metadata": {},
   "source": [
    "![DFA_table](DFA_table.png)"
   ]
  },
  {
   "attachments": {},
   "cell_type": "markdown",
   "metadata": {},
   "source": [
    "We have six states q1  q2  q3  q2,q4  q3,q5 and q2,q4,qf first let us rename the states for simplicity then summarize the DFA transition table:<br> \n",
    "q1-A<br> \n",
    "q2-B<br> \n",
    "q3-C<br> \n",
    "q2,q4 -D<br> \n",
    "q3,q5 – E<br> \n",
    "q2,q4,qf-F<br> \n",
    "if we are at the starting state which is A and our input was zero we will stay at the same state but if we have one we will advance to B then if we are at B and got input one we will be at the same state but if we got zero we will advance to C then if we got zero we will return back to A but if we got one we will diverse to D then if we are at D and got one as an input we will be back to B and if we got zero will diverse to E and if we are at E and got 0 as an input we will return back to A but if we got one we will advance to F our accepting state"
   ]
  },
  {
   "cell_type": "code",
   "execution_count": 5,
   "metadata": {},
   "outputs": [],
   "source": [
    "# implement the graph using nested dictionary\n",
    "dfa_graph = {\n",
    "    \"A\":{\"0\":[\"A\"],\"1\":[\"B\"]},\n",
    "    \"B\":{\"0\":[\"C\"],\"1\":[\"B\"]},\n",
    "    \"C\":{\"0\":[\"A\"],\"1\":[\"D\"]},\n",
    "    \"D\":{\"0\":[\"E\"],\"1\":[\"B\"]},\n",
    "    \"E\":{\"0\":[\"A\"],\"1\":[\"F\"]},\n",
    "    \"F\":{\"0\":[\"E\"],\"1\":[\"B\"]}\n",
    "}"
   ]
  },
  {
   "attachments": {},
   "cell_type": "markdown",
   "metadata": {},
   "source": [
    "This a graph for the NFA done using nested dictionaries to illustrate it coded for the implementation of DFA_count "
   ]
  },
  {
   "cell_type": "code",
   "execution_count": 6,
   "metadata": {},
   "outputs": [],
   "source": [
    "def DFA_count(input,dfa_graph):\n",
    "    '''\n",
    "    function that use the graph we implement to return the number of occurrences of \n",
    "    (10101) in the input using the DFA taking into consideration the overlapping.\n",
    "\n",
    "    Parameters:\n",
    "        input (str):The string which the function will apply the DFA graph on it.\n",
    "\n",
    "    Returns:\n",
    "        count (int):the number of occurrences of (10101) in the input.   \n",
    "    '''\n",
    "\n",
    "    count = 0\n",
    "\n",
    "    # access the states of the graph\n",
    "    states = list(dfa_graph.keys())\n",
    "\n",
    "    # define the start state\n",
    "    current_states = [states[0]]\n",
    "\n",
    "    # loop on the characters of the string\n",
    "    for symbol in input:\n",
    "        \n",
    "        next_states = []\n",
    "        \n",
    "        # check the character if it is 0 or 1 and append the state of this character\n",
    "        # to the next state to access it in the next loop\n",
    "        if symbol == '0':\n",
    "            next_states.append(dfa_graph[current_states[0]][\"0\"])\n",
    "        elif symbol == '1':\n",
    "            next_states.append(dfa_graph[current_states[0]][\"1\"])\n",
    "\n",
    "        # flat all the states in the list of the next states\n",
    "        next_states = [item for sublist in next_states for item in sublist]\n",
    "\n",
    "        # copy the next states to make it the current states\n",
    "        current_states = next_states.copy()\n",
    "\n",
    "        # if we reach the final state then we detect squance (10101) and add 1 to the counter\n",
    "        if \"F\" in current_states:\n",
    "            count += 1\n",
    "            \n",
    "    return count"
   ]
  },
  {
   "attachments": {},
   "cell_type": "markdown",
   "metadata": {},
   "source": [
    "this function DFA_count takes input either 0/1 and the nfa graph and traverse the dictionary according the inputs and whenever reaching the accepting state the count parameter increment by 1 to ensure overlapping"
   ]
  },
  {
   "cell_type": "code",
   "execution_count": 7,
   "metadata": {},
   "outputs": [
    {
     "name": "stdout",
     "output_type": "stream",
     "text": [
      "                   TEST CASES                      \n",
      "first test case  101011 ---------------> Count = 1\n",
      "second test case 11111 ----------------> Count = 0\n",
      "third test case  10101010101 ----------> Count = 4\n",
      "fourth test case 110101011 ------------> Count = 2\n",
      "our test case    10101010101101010101 -> Count = 7\n",
      "\n"
     ]
    }
   ],
   "source": [
    "print(\"                   TEST CASES                      \")\n",
    "print(f\"first test case  101011 ---------------> Count = {DFA_count('101011',dfa_graph)}\\n\"\n",
    "      f\"second test case 11111 ----------------> Count = {DFA_count('11111',dfa_graph)}\\n\"\n",
    "      f\"third test case  10101010101 ----------> Count = {DFA_count('10101010101',dfa_graph)}\\n\"\n",
    "      f\"fourth test case 110101011 ------------> Count = {DFA_count('110101011',dfa_graph)}\\n\"\n",
    "      f\"our test case    10101010101101010101 -> Count = {DFA_count('10101010101101010101',dfa_graph)}\\n\"\n",
    ")"
   ]
  }
 ],
 "metadata": {
  "kernelspec": {
   "display_name": "Python 3",
   "language": "python",
   "name": "python3"
  },
  "language_info": {
   "codemirror_mode": {
    "name": "ipython",
    "version": 3
   },
   "file_extension": ".py",
   "mimetype": "text/x-python",
   "name": "python",
   "nbconvert_exporter": "python",
   "pygments_lexer": "ipython3",
   "version": "3.11.0"
  },
  "orig_nbformat": 4
 },
 "nbformat": 4,
 "nbformat_minor": 2
}
